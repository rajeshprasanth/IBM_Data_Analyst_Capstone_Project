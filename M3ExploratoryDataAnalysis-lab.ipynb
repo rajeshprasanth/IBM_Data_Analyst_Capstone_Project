{
 "cells": [
  {
   "cell_type": "markdown",
   "metadata": {},
   "source": [
    "<p style=\"text-align:center\">\n",
    "    <a href=\"https://skills.network/?utm_medium=Exinfluencer&utm_source=Exinfluencer&utm_content=000026UJ&utm_term=10006555&utm_id=NA-SkillsNetwork-Channel-SkillsNetworkCoursesIBMDA0321ENSkillsNetwork21426264-2022-01-01\" target=\"_blank\">\n",
    "    <img src=\"https://cf-courses-data.s3.us.cloud-object-storage.appdomain.cloud/assets/logos/SN_web_lightmode.png\" width=\"200\" alt=\"Skills Network Logo\"  />\n",
    "    </a>\n",
    "</p>\n"
   ]
  },
  {
   "cell_type": "markdown",
   "metadata": {},
   "source": [
    "# **Exploratory Data Analysis Lab**\n"
   ]
  },
  {
   "cell_type": "markdown",
   "metadata": {},
   "source": [
    "Estimated time needed: **30** minutes\n"
   ]
  },
  {
   "cell_type": "markdown",
   "metadata": {},
   "source": [
    "In this module you get to work with the cleaned dataset from the previous module.\n",
    "\n",
    "In this assignment you will perform the task of exploratory data analysis.\n",
    "You will find out the distribution of data, presence of outliers and also determine the correlation between different columns in the dataset.\n"
   ]
  },
  {
   "cell_type": "markdown",
   "metadata": {},
   "source": [
    "## Objectives\n"
   ]
  },
  {
   "cell_type": "markdown",
   "metadata": {},
   "source": [
    "In this lab you will perform the following:\n"
   ]
  },
  {
   "cell_type": "markdown",
   "metadata": {},
   "source": [
    "*   Identify the distribution of data in the dataset.\n",
    "\n",
    "*   Identify outliers in the dataset.\n",
    "\n",
    "*   Remove outliers from the dataset.\n",
    "\n",
    "*   Identify correlation between features in the dataset.\n"
   ]
  },
  {
   "cell_type": "markdown",
   "metadata": {},
   "source": [
    "***\n"
   ]
  },
  {
   "cell_type": "markdown",
   "metadata": {},
   "source": [
    "## Hands on Lab\n"
   ]
  },
  {
   "cell_type": "markdown",
   "metadata": {},
   "source": [
    "Import the pandas module.\n"
   ]
  },
  {
   "cell_type": "code",
   "execution_count": 10,
   "metadata": {},
   "outputs": [],
   "source": [
    "import pandas as pd"
   ]
  },
  {
   "cell_type": "markdown",
   "metadata": {},
   "source": [
    "Load the dataset into a dataframe.\n"
   ]
  },
  {
   "cell_type": "code",
   "execution_count": 11,
   "metadata": {},
   "outputs": [],
   "source": [
    "#df = pd.read_csv(\"https://cf-courses-data.s3.us.cloud-object-storage.appdomain.cloud/IBM-DA0321EN-SkillsNetwork/LargeData/m2_survey_data.csv\")"
   ]
  },
  {
   "cell_type": "code",
   "execution_count": 12,
   "metadata": {},
   "outputs": [],
   "source": [
    "df = pd.read_csv(\"m2_survey_data.csv\")"
   ]
  },
  {
   "cell_type": "code",
   "execution_count": 13,
   "metadata": {},
   "outputs": [
    {
     "data": {
      "text/html": [
       "<div>\n",
       "<style scoped>\n",
       "    .dataframe tbody tr th:only-of-type {\n",
       "        vertical-align: middle;\n",
       "    }\n",
       "\n",
       "    .dataframe tbody tr th {\n",
       "        vertical-align: top;\n",
       "    }\n",
       "\n",
       "    .dataframe thead th {\n",
       "        text-align: right;\n",
       "    }\n",
       "</style>\n",
       "<table border=\"1\" class=\"dataframe\">\n",
       "  <thead>\n",
       "    <tr style=\"text-align: right;\">\n",
       "      <th></th>\n",
       "      <th>ConvertedComp</th>\n",
       "    </tr>\n",
       "  </thead>\n",
       "  <tbody>\n",
       "    <tr>\n",
       "      <th>0</th>\n",
       "      <td>61000.0</td>\n",
       "    </tr>\n",
       "    <tr>\n",
       "      <th>1</th>\n",
       "      <td>95179.0</td>\n",
       "    </tr>\n",
       "    <tr>\n",
       "      <th>2</th>\n",
       "      <td>90000.0</td>\n",
       "    </tr>\n",
       "    <tr>\n",
       "      <th>3</th>\n",
       "      <td>455352.0</td>\n",
       "    </tr>\n",
       "    <tr>\n",
       "      <th>4</th>\n",
       "      <td>65277.0</td>\n",
       "    </tr>\n",
       "    <tr>\n",
       "      <th>...</th>\n",
       "      <td>...</td>\n",
       "    </tr>\n",
       "    <tr>\n",
       "      <th>11393</th>\n",
       "      <td>130000.0</td>\n",
       "    </tr>\n",
       "    <tr>\n",
       "      <th>11394</th>\n",
       "      <td>19880.0</td>\n",
       "    </tr>\n",
       "    <tr>\n",
       "      <th>11395</th>\n",
       "      <td>105000.0</td>\n",
       "    </tr>\n",
       "    <tr>\n",
       "      <th>11396</th>\n",
       "      <td>80371.0</td>\n",
       "    </tr>\n",
       "    <tr>\n",
       "      <th>11397</th>\n",
       "      <td>NaN</td>\n",
       "    </tr>\n",
       "  </tbody>\n",
       "</table>\n",
       "<p>11398 rows × 1 columns</p>\n",
       "</div>"
      ],
      "text/plain": [
       "       ConvertedComp\n",
       "0            61000.0\n",
       "1            95179.0\n",
       "2            90000.0\n",
       "3           455352.0\n",
       "4            65277.0\n",
       "...              ...\n",
       "11393       130000.0\n",
       "11394        19880.0\n",
       "11395       105000.0\n",
       "11396        80371.0\n",
       "11397            NaN\n",
       "\n",
       "[11398 rows x 1 columns]"
      ]
     },
     "execution_count": 13,
     "metadata": {},
     "output_type": "execute_result"
    }
   ],
   "source": [
    "df[[\"ConvertedComp\"]]"
   ]
  },
  {
   "cell_type": "markdown",
   "metadata": {},
   "source": [
    "## Distribution\n"
   ]
  },
  {
   "cell_type": "markdown",
   "metadata": {},
   "source": [
    "### Determine how the data is distributed\n"
   ]
  },
  {
   "cell_type": "markdown",
   "metadata": {},
   "source": [
    "The column `ConvertedComp` contains Salary converted to annual USD salaries using the exchange rate on 2019-02-01.\n",
    "\n",
    "This assumes 12 working months and 50 working weeks.\n"
   ]
  },
  {
   "cell_type": "markdown",
   "metadata": {},
   "source": [
    "Plot the distribution curve for the column `ConvertedComp`.\n"
   ]
  },
  {
   "cell_type": "code",
   "execution_count": 14,
   "metadata": {},
   "outputs": [
    {
     "name": "stderr",
     "output_type": "stream",
     "text": [
      "/usr/local/lib/python3.9/site-packages/seaborn/distributions.py:2619: FutureWarning: `distplot` is a deprecated function and will be removed in a future version. Please adapt your code to use either `displot` (a figure-level function with similar flexibility) or `histplot` (an axes-level function for histograms).\n",
      "  warnings.warn(msg, FutureWarning)\n"
     ]
    },
    {
     "data": {
      "text/plain": [
       "<AxesSubplot:xlabel='ConvertedComp', ylabel='Density'>"
      ]
     },
     "execution_count": 14,
     "metadata": {},
     "output_type": "execute_result"
    },
    {
     "data": {
      "image/png": "[encoded data removed]",
      "text/plain": [
       "<Figure size 432x288 with 1 Axes>"
      ]
     },
     "metadata": {
      "needs_background": "light"
     },
     "output_type": "display_data"
    }
   ],
   "source": [
    "# your code goes here\n",
    "import seaborn as sns \n",
    "sns.distplot(df['ConvertedComp'])"
   ]
  },
  {
   "cell_type": "markdown",
   "metadata": {},
   "source": [
    "Plot the histogram for the column `ConvertedComp`.\n"
   ]
  },
  {
   "cell_type": "code",
   "execution_count": 15,
   "metadata": {},
   "outputs": [
    {
     "data": {
      "text/plain": [
       "<AxesSubplot:xlabel='ConvertedComp', ylabel='Count'>"
      ]
     },
     "execution_count": 15,
     "metadata": {},
     "output_type": "execute_result"
    },
    {
     "data": {
      "image/png": "[encoded data removed]",
      "text/plain": [
       "<Figure size 432x288 with 1 Axes>"
      ]
     },
     "metadata": {
      "needs_background": "light"
     },
     "output_type": "display_data"
    }
   ],
   "source": [
    "# your code goes here\n",
    "sns.histplot(df['ConvertedComp'])"
   ]
  },
  {
   "cell_type": "markdown",
   "metadata": {},
   "source": [
    "What is the median of the column `ConvertedComp`?\n"
   ]
  },
  {
   "cell_type": "code",
   "execution_count": 16,
   "metadata": {},
   "outputs": [
    {
     "data": {
      "text/plain": [
       "57745.0"
      ]
     },
     "execution_count": 16,
     "metadata": {},
     "output_type": "execute_result"
    }
   ],
   "source": [
    "df['ConvertedComp'].median()"
   ]
  },
  {
   "cell_type": "code",
   "execution_count": 17,
   "metadata": {},
   "outputs": [
    {
     "data": {
      "text/plain": [
       "57745.0"
      ]
     },
     "execution_count": 17,
     "metadata": {},
     "output_type": "execute_result"
    }
   ],
   "source": [
    "# your code goes here\n",
    "df['ConvertedComp'].dropna(axis=0,inplace=True) \n",
    "df['ConvertedComp'].median()"
   ]
  },
  {
   "cell_type": "markdown",
   "metadata": {},
   "source": [
    "How many responders identified themselves only as a **Man**?\n"
   ]
  },
  {
   "cell_type": "code",
   "execution_count": 166,
   "metadata": {},
   "outputs": [
    {
     "data": {
      "text/plain": [
       "Man                                                            10480\n",
       "Woman                                                            731\n",
       "Non-binary, genderqueer, or gender non-conforming                 63\n",
       "Man;Non-binary, genderqueer, or gender non-conforming             26\n",
       "Woman;Non-binary, genderqueer, or gender non-conforming           14\n",
       "Woman;Man                                                          9\n",
       "Woman;Man;Non-binary, genderqueer, or gender non-conforming        2\n",
       "Name: Gender, dtype: int64"
      ]
     },
     "execution_count": 166,
     "metadata": {},
     "output_type": "execute_result"
    }
   ],
   "source": [
    "# your code goes here\n",
    "df['Gender'].value_counts()"
   ]
  },
  {
   "cell_type": "markdown",
   "metadata": {},
   "source": [
    "Find out the  median ConvertedComp of responders identified themselves only as a **Woman**?\n"
   ]
  },
  {
   "cell_type": "code",
   "execution_count": 167,
   "metadata": {},
   "outputs": [
    {
     "data": {
      "text/plain": [
       "57708.0"
      ]
     },
     "execution_count": 167,
     "metadata": {},
     "output_type": "execute_result"
    }
   ],
   "source": [
    "# your code goes here\n",
    "df[df['Gender']=='Woman'][\"ConvertedComp\"].median()"
   ]
  },
  {
   "cell_type": "markdown",
   "metadata": {},
   "source": [
    "Give the five number summary for the column `Age`?\n"
   ]
  },
  {
   "cell_type": "markdown",
   "metadata": {},
   "source": [
    "**Double click here for hint**.\n",
    "\n",
    "<!--\n",
    "min,q1,median,q3,max of a column are its five number summary.\n",
    "-->\n"
   ]
  },
  {
   "cell_type": "code",
   "execution_count": 168,
   "metadata": {},
   "outputs": [
    {
     "data": {
      "text/plain": [
       "count    11111.000000\n",
       "mean        30.778895\n",
       "std          7.393686\n",
       "min         16.000000\n",
       "25%         25.000000\n",
       "50%         29.000000\n",
       "75%         35.000000\n",
       "max         99.000000\n",
       "Name: Age, dtype: float64"
      ]
     },
     "execution_count": 168,
     "metadata": {},
     "output_type": "execute_result"
    }
   ],
   "source": [
    "# your code goes here\n",
    "df['Age'].describe()"
   ]
  },
  {
   "cell_type": "markdown",
   "metadata": {},
   "source": [
    "Plot a histogram of the column `Age`.\n"
   ]
  },
  {
   "cell_type": "code",
   "execution_count": 169,
   "metadata": {
    "scrolled": true
   },
   "outputs": [
    {
     "data": {
      "text/plain": [
       "<AxesSubplot:xlabel='Age', ylabel='Count'>"
      ]
     },
     "execution_count": 169,
     "metadata": {},
     "output_type": "execute_result"
    },
    {
     "data": {
      "image/png": "[encoded data removed]",
      "text/plain": [
       "<Figure size 432x288 with 1 Axes>"
      ]
     },
     "metadata": {
      "needs_background": "light"
     },
     "output_type": "display_data"
    }
   ],
   "source": [
    "# your code goes here\n",
    "sns.histplot(df[\"Age\"])"
   ]
  },
  {
   "cell_type": "markdown",
   "metadata": {},
   "source": [
    "## Outliers\n"
   ]
  },
  {
   "cell_type": "markdown",
   "metadata": {},
   "source": [
    "### Finding outliers\n"
   ]
  },
  {
   "cell_type": "markdown",
   "metadata": {},
   "source": [
    "Find out if outliers exist in the column `ConvertedComp` using a box plot?\n"
   ]
  },
  {
   "cell_type": "code",
   "execution_count": 170,
   "metadata": {},
   "outputs": [
    {
     "data": {
      "text/plain": [
       "<AxesSubplot:ylabel='ConvertedComp'>"
      ]
     },
     "execution_count": 170,
     "metadata": {},
     "output_type": "execute_result"
    },
    {
     "data": {
      "image/png": "[encoded data removed]",
      "text/plain": [
       "<Figure size 1080x720 with 1 Axes>"
      ]
     },
     "metadata": {
      "needs_background": "light"
     },
     "output_type": "display_data"
    }
   ],
   "source": [
    "# your code goes here\n",
    "plt.figure(figsize=(15,10))\n",
    "sns.boxplot(y=\"ConvertedComp\", data=df)"
   ]
  },
  {
   "cell_type": "code",
   "execution_count": 171,
   "metadata": {},
   "outputs": [
    {
     "data": {
      "text/plain": [
       "57745.0"
      ]
     },
     "execution_count": 171,
     "metadata": {},
     "output_type": "execute_result"
    }
   ],
   "source": [
    "df[\"ConvertedComp\"].median()"
   ]
  },
  {
   "cell_type": "markdown",
   "metadata": {},
   "source": [
    "Find out the Inter Quartile Range for the column `ConvertedComp`.\n"
   ]
  },
  {
   "cell_type": "code",
   "execution_count": 172,
   "metadata": {},
   "outputs": [
    {
     "name": "stdout",
     "output_type": "stream",
     "text": [
      "73132.0\n"
     ]
    }
   ],
   "source": [
    "# your code goes here\n",
    "Q1 = df['ConvertedComp'].quantile(.25)\n",
    "Q3 = df['ConvertedComp'].quantile(.75)\n",
    "IQR = Q3 - Q1\n",
    "print(IQR)"
   ]
  },
  {
   "cell_type": "markdown",
   "metadata": {},
   "source": [
    "Find out the upper and lower bounds.\n"
   ]
  },
  {
   "cell_type": "code",
   "execution_count": 173,
   "metadata": {},
   "outputs": [
    {
     "name": "stdout",
     "output_type": "stream",
     "text": [
      "Upper Bound: 2000000.0\n",
      "Lower Bound: 0.0\n"
     ]
    }
   ],
   "source": [
    "# your code goes here\n",
    "print('Upper Bound:', df['ConvertedComp'].max())\n",
    "print('Lower Bound:', df['ConvertedComp'].min())"
   ]
  },
  {
   "cell_type": "markdown",
   "metadata": {},
   "source": [
    "Identify how many outliers are there in the `ConvertedComp` column.\n"
   ]
  },
  {
   "cell_type": "code",
   "execution_count": 174,
   "metadata": {},
   "outputs": [
    {
     "name": "stdout",
     "output_type": "stream",
     "text": [
      "Outliers above: 879\n",
      "Outliers below: 0\n",
      "Median with outliers: 57745.0\n",
      "Median with outliers removed: 52704.0\n",
      "Mean with outliers removed: 59883.20838915799\n"
     ]
    }
   ],
   "source": [
    "# your code goes here\n",
    "print('Outliers above:',df['ConvertedComp'].gt(Q3 + 1.5*IQR).sum())\n",
    "print('Outliers below:',df['ConvertedComp'].lt(Q1 - 1.5*IQR).sum())\n",
    "print('Median with outliers:',df['ConvertedComp'].median())\n",
    "print('Median with outliers removed:',df[df['ConvertedComp'].le(Q3 + 1.5*IQR)]['ConvertedComp'].median())\n",
    "print('Mean with outliers removed:',df[df['ConvertedComp'].le(Q3 + 1.5*IQR)]['ConvertedComp'].mean())"
   ]
  },
  {
   "cell_type": "markdown",
   "metadata": {},
   "source": [
    "Create a new dataframe by removing the outliers from the `ConvertedComp` column.\n"
   ]
  },
  {
   "cell_type": "code",
   "execution_count": 175,
   "metadata": {},
   "outputs": [
    {
     "name": "stdout",
     "output_type": "stream",
     "text": [
      "total number in new dataset: 9703\n",
      "total number of outliers removed: 11398\n"
     ]
    }
   ],
   "source": [
    "# your code goes here\n",
    "df1 = df[df['ConvertedComp'].le(Q3 + 1.5*IQR)]\n",
    "print('total number in new dataset:',df1.shape[0])\n",
    "df[df['ConvertedComp'].gt(Q3 + 1.5*IQR)].shape\n",
    "print('total number of outliers removed:',df.shape[0])\n"
   ]
  },
  {
   "cell_type": "code",
   "execution_count": 177,
   "metadata": {},
   "outputs": [
    {
     "data": {
      "text/html": [
       "<div>\n",
       "<style scoped>\n",
       "    .dataframe tbody tr th:only-of-type {\n",
       "        vertical-align: middle;\n",
       "    }\n",
       "\n",
       "    .dataframe tbody tr th {\n",
       "        vertical-align: top;\n",
       "    }\n",
       "\n",
       "    .dataframe thead th {\n",
       "        text-align: right;\n",
       "    }\n",
       "</style>\n",
       "<table border=\"1\" class=\"dataframe\">\n",
       "  <thead>\n",
       "    <tr style=\"text-align: right;\">\n",
       "      <th></th>\n",
       "      <th>Respondent</th>\n",
       "      <th>CompTotal</th>\n",
       "      <th>ConvertedComp</th>\n",
       "      <th>WorkWeekHrs</th>\n",
       "      <th>CodeRevHrs</th>\n",
       "      <th>Age</th>\n",
       "    </tr>\n",
       "  </thead>\n",
       "  <tbody>\n",
       "    <tr>\n",
       "      <th>count</th>\n",
       "      <td>11398.000000</td>\n",
       "      <td>1.058900e+04</td>\n",
       "      <td>1.058200e+04</td>\n",
       "      <td>11276.000000</td>\n",
       "      <td>8972.000000</td>\n",
       "      <td>11111.000000</td>\n",
       "    </tr>\n",
       "    <tr>\n",
       "      <th>mean</th>\n",
       "      <td>12490.392437</td>\n",
       "      <td>7.570477e+05</td>\n",
       "      <td>1.315967e+05</td>\n",
       "      <td>42.064606</td>\n",
       "      <td>4.781071</td>\n",
       "      <td>30.778895</td>\n",
       "    </tr>\n",
       "    <tr>\n",
       "      <th>std</th>\n",
       "      <td>7235.461999</td>\n",
       "      <td>9.705598e+06</td>\n",
       "      <td>2.947865e+05</td>\n",
       "      <td>24.672741</td>\n",
       "      <td>4.567060</td>\n",
       "      <td>7.393686</td>\n",
       "    </tr>\n",
       "    <tr>\n",
       "      <th>min</th>\n",
       "      <td>4.000000</td>\n",
       "      <td>0.000000e+00</td>\n",
       "      <td>0.000000e+00</td>\n",
       "      <td>3.000000</td>\n",
       "      <td>0.000000</td>\n",
       "      <td>16.000000</td>\n",
       "    </tr>\n",
       "    <tr>\n",
       "      <th>25%</th>\n",
       "      <td>6264.250000</td>\n",
       "      <td>2.500000e+04</td>\n",
       "      <td>2.686800e+04</td>\n",
       "      <td>40.000000</td>\n",
       "      <td>2.000000</td>\n",
       "      <td>25.000000</td>\n",
       "    </tr>\n",
       "    <tr>\n",
       "      <th>50%</th>\n",
       "      <td>12484.000000</td>\n",
       "      <td>6.500000e+04</td>\n",
       "      <td>5.774500e+04</td>\n",
       "      <td>40.000000</td>\n",
       "      <td>4.000000</td>\n",
       "      <td>29.000000</td>\n",
       "    </tr>\n",
       "    <tr>\n",
       "      <th>75%</th>\n",
       "      <td>18784.750000</td>\n",
       "      <td>1.200000e+05</td>\n",
       "      <td>1.000000e+05</td>\n",
       "      <td>43.000000</td>\n",
       "      <td>5.000000</td>\n",
       "      <td>35.000000</td>\n",
       "    </tr>\n",
       "    <tr>\n",
       "      <th>max</th>\n",
       "      <td>25142.000000</td>\n",
       "      <td>7.000000e+08</td>\n",
       "      <td>2.000000e+06</td>\n",
       "      <td>1012.000000</td>\n",
       "      <td>99.000000</td>\n",
       "      <td>99.000000</td>\n",
       "    </tr>\n",
       "  </tbody>\n",
       "</table>\n",
       "</div>"
      ],
      "text/plain": [
       "         Respondent     CompTotal  ConvertedComp   WorkWeekHrs   CodeRevHrs  \\\n",
       "count  11398.000000  1.058900e+04   1.058200e+04  11276.000000  8972.000000   \n",
       "mean   12490.392437  7.570477e+05   1.315967e+05     42.064606     4.781071   \n",
       "std     7235.461999  9.705598e+06   2.947865e+05     24.672741     4.567060   \n",
       "min        4.000000  0.000000e+00   0.000000e+00      3.000000     0.000000   \n",
       "25%     6264.250000  2.500000e+04   2.686800e+04     40.000000     2.000000   \n",
       "50%    12484.000000  6.500000e+04   5.774500e+04     40.000000     4.000000   \n",
       "75%    18784.750000  1.200000e+05   1.000000e+05     43.000000     5.000000   \n",
       "max    25142.000000  7.000000e+08   2.000000e+06   1012.000000    99.000000   \n",
       "\n",
       "                Age  \n",
       "count  11111.000000  \n",
       "mean      30.778895  \n",
       "std        7.393686  \n",
       "min       16.000000  \n",
       "25%       25.000000  \n",
       "50%       29.000000  \n",
       "75%       35.000000  \n",
       "max       99.000000  "
      ]
     },
     "execution_count": 177,
     "metadata": {},
     "output_type": "execute_result"
    }
   ],
   "source": [
    "df.describe()"
   ]
  },
  {
   "cell_type": "markdown",
   "metadata": {},
   "source": [
    "## Correlation\n"
   ]
  },
  {
   "cell_type": "markdown",
   "metadata": {},
   "source": [
    "### Finding correlation\n"
   ]
  },
  {
   "cell_type": "markdown",
   "metadata": {},
   "source": [
    "Find the correlation between `Age` and all other numerical columns.\n"
   ]
  },
  {
   "cell_type": "code",
   "execution_count": 176,
   "metadata": {},
   "outputs": [
    {
     "data": {
      "text/html": [
       "<style type=\"text/css\">\n",
       "#T_95cfa_row0_col0, #T_95cfa_row1_col1, #T_95cfa_row2_col2, #T_95cfa_row3_col3, #T_95cfa_row4_col4, #T_95cfa_row5_col5 {\n",
       "  background-color: #b40426;\n",
       "  color: #f1f1f1;\n",
       "}\n",
       "#T_95cfa_row0_col1, #T_95cfa_row0_col3, #T_95cfa_row1_col0, #T_95cfa_row2_col4, #T_95cfa_row3_col0, #T_95cfa_row4_col2, #T_95cfa_row4_col5 {\n",
       "  background-color: #3b4cc0;\n",
       "  color: #f1f1f1;\n",
       "}\n",
       "#T_95cfa_row0_col2, #T_95cfa_row1_col2 {\n",
       "  background-color: #445acc;\n",
       "  color: #f1f1f1;\n",
       "}\n",
       "#T_95cfa_row0_col4, #T_95cfa_row2_col3 {\n",
       "  background-color: #455cce;\n",
       "  color: #f1f1f1;\n",
       "}\n",
       "#T_95cfa_row0_col5, #T_95cfa_row1_col5 {\n",
       "  background-color: #4257c9;\n",
       "  color: #f1f1f1;\n",
       "}\n",
       "#T_95cfa_row1_col3, #T_95cfa_row2_col0, #T_95cfa_row3_col1, #T_95cfa_row5_col0 {\n",
       "  background-color: #3f53c6;\n",
       "  color: #f1f1f1;\n",
       "}\n",
       "#T_95cfa_row1_col4, #T_95cfa_row4_col3 {\n",
       "  background-color: #465ecf;\n",
       "  color: #f1f1f1;\n",
       "}\n",
       "#T_95cfa_row2_col1, #T_95cfa_row5_col4 {\n",
       "  background-color: #3e51c5;\n",
       "  color: #f1f1f1;\n",
       "}\n",
       "#T_95cfa_row2_col5 {\n",
       "  background-color: #6180e9;\n",
       "  color: #f1f1f1;\n",
       "}\n",
       "#T_95cfa_row3_col2, #T_95cfa_row5_col3 {\n",
       "  background-color: #4a63d3;\n",
       "  color: #f1f1f1;\n",
       "}\n",
       "#T_95cfa_row3_col4, #T_95cfa_row3_col5 {\n",
       "  background-color: #4b64d5;\n",
       "  color: #f1f1f1;\n",
       "}\n",
       "#T_95cfa_row4_col0, #T_95cfa_row4_col1, #T_95cfa_row5_col1 {\n",
       "  background-color: #4055c8;\n",
       "  color: #f1f1f1;\n",
       "}\n",
       "#T_95cfa_row5_col2 {\n",
       "  background-color: #6485ec;\n",
       "  color: #f1f1f1;\n",
       "}\n",
       "</style>\n",
       "<table id=\"T_95cfa\">\n",
       "  <thead>\n",
       "    <tr>\n",
       "      <th class=\"blank level0\" >&nbsp;</th>\n",
       "      <th id=\"T_95cfa_level0_col0\" class=\"col_heading level0 col0\" >Respondent</th>\n",
       "      <th id=\"T_95cfa_level0_col1\" class=\"col_heading level0 col1\" >CompTotal</th>\n",
       "      <th id=\"T_95cfa_level0_col2\" class=\"col_heading level0 col2\" >ConvertedComp</th>\n",
       "      <th id=\"T_95cfa_level0_col3\" class=\"col_heading level0 col3\" >WorkWeekHrs</th>\n",
       "      <th id=\"T_95cfa_level0_col4\" class=\"col_heading level0 col4\" >CodeRevHrs</th>\n",
       "      <th id=\"T_95cfa_level0_col5\" class=\"col_heading level0 col5\" >Age</th>\n",
       "    </tr>\n",
       "  </thead>\n",
       "  <tbody>\n",
       "    <tr>\n",
       "      <th id=\"T_95cfa_level0_row0\" class=\"row_heading level0 row0\" >Respondent</th>\n",
       "      <td id=\"T_95cfa_row0_col0\" class=\"data row0 col0\" >1.000000</td>\n",
       "      <td id=\"T_95cfa_row0_col1\" class=\"data row0 col1\" >-0.013490</td>\n",
       "      <td id=\"T_95cfa_row0_col2\" class=\"data row0 col2\" >0.002181</td>\n",
       "      <td id=\"T_95cfa_row0_col3\" class=\"data row0 col3\" >-0.015314</td>\n",
       "      <td id=\"T_95cfa_row0_col4\" class=\"data row0 col4\" >0.004621</td>\n",
       "      <td id=\"T_95cfa_row0_col5\" class=\"data row0 col5\" >0.004041</td>\n",
       "    </tr>\n",
       "    <tr>\n",
       "      <th id=\"T_95cfa_level0_row1\" class=\"row_heading level0 row1\" >CompTotal</th>\n",
       "      <td id=\"T_95cfa_row1_col0\" class=\"data row1 col0\" >-0.013490</td>\n",
       "      <td id=\"T_95cfa_row1_col1\" class=\"data row1 col1\" >1.000000</td>\n",
       "      <td id=\"T_95cfa_row1_col2\" class=\"data row1 col2\" >0.001037</td>\n",
       "      <td id=\"T_95cfa_row1_col3\" class=\"data row1 col3\" >0.003510</td>\n",
       "      <td id=\"T_95cfa_row1_col4\" class=\"data row1 col4\" >0.007063</td>\n",
       "      <td id=\"T_95cfa_row1_col5\" class=\"data row1 col5\" >0.006970</td>\n",
       "    </tr>\n",
       "    <tr>\n",
       "      <th id=\"T_95cfa_level0_row2\" class=\"row_heading level0 row2\" >ConvertedComp</th>\n",
       "      <td id=\"T_95cfa_row2_col0\" class=\"data row2 col0\" >0.002181</td>\n",
       "      <td id=\"T_95cfa_row2_col1\" class=\"data row2 col1\" >0.001037</td>\n",
       "      <td id=\"T_95cfa_row2_col2\" class=\"data row2 col2\" >1.000000</td>\n",
       "      <td id=\"T_95cfa_row2_col3\" class=\"data row2 col3\" >0.021143</td>\n",
       "      <td id=\"T_95cfa_row2_col4\" class=\"data row2 col4\" >-0.033865</td>\n",
       "      <td id=\"T_95cfa_row2_col5\" class=\"data row2 col5\" >0.105386</td>\n",
       "    </tr>\n",
       "    <tr>\n",
       "      <th id=\"T_95cfa_level0_row3\" class=\"row_heading level0 row3\" >WorkWeekHrs</th>\n",
       "      <td id=\"T_95cfa_row3_col0\" class=\"data row3 col0\" >-0.015314</td>\n",
       "      <td id=\"T_95cfa_row3_col1\" class=\"data row3 col1\" >0.003510</td>\n",
       "      <td id=\"T_95cfa_row3_col2\" class=\"data row3 col2\" >0.021143</td>\n",
       "      <td id=\"T_95cfa_row3_col3\" class=\"data row3 col3\" >1.000000</td>\n",
       "      <td id=\"T_95cfa_row3_col4\" class=\"data row3 col4\" >0.026517</td>\n",
       "      <td id=\"T_95cfa_row3_col5\" class=\"data row3 col5\" >0.036518</td>\n",
       "    </tr>\n",
       "    <tr>\n",
       "      <th id=\"T_95cfa_level0_row4\" class=\"row_heading level0 row4\" >CodeRevHrs</th>\n",
       "      <td id=\"T_95cfa_row4_col0\" class=\"data row4 col0\" >0.004621</td>\n",
       "      <td id=\"T_95cfa_row4_col1\" class=\"data row4 col1\" >0.007063</td>\n",
       "      <td id=\"T_95cfa_row4_col2\" class=\"data row4 col2\" >-0.033865</td>\n",
       "      <td id=\"T_95cfa_row4_col3\" class=\"data row4 col3\" >0.026517</td>\n",
       "      <td id=\"T_95cfa_row4_col4\" class=\"data row4 col4\" >1.000000</td>\n",
       "      <td id=\"T_95cfa_row4_col5\" class=\"data row4 col5\" >-0.020469</td>\n",
       "    </tr>\n",
       "    <tr>\n",
       "      <th id=\"T_95cfa_level0_row5\" class=\"row_heading level0 row5\" >Age</th>\n",
       "      <td id=\"T_95cfa_row5_col0\" class=\"data row5 col0\" >0.004041</td>\n",
       "      <td id=\"T_95cfa_row5_col1\" class=\"data row5 col1\" >0.006970</td>\n",
       "      <td id=\"T_95cfa_row5_col2\" class=\"data row5 col2\" >0.105386</td>\n",
       "      <td id=\"T_95cfa_row5_col3\" class=\"data row5 col3\" >0.036518</td>\n",
       "      <td id=\"T_95cfa_row5_col4\" class=\"data row5 col4\" >-0.020469</td>\n",
       "      <td id=\"T_95cfa_row5_col5\" class=\"data row5 col5\" >1.000000</td>\n",
       "    </tr>\n",
       "  </tbody>\n",
       "</table>\n"
      ],
      "text/plain": [
       "<pandas.io.formats.style.Styler at 0x7f3c62d8abb0>"
      ]
     },
     "execution_count": 176,
     "metadata": {},
     "output_type": "execute_result"
    }
   ],
   "source": [
    "# your code goes here\n",
    "corr = df.corr()\n",
    "corr.style.background_gradient(cmap='coolwarm')"
   ]
  },
  {
   "cell_type": "markdown",
   "metadata": {},
   "source": [
    "## Authors\n"
   ]
  },
  {
   "cell_type": "markdown",
   "metadata": {},
   "source": [
    "Ramesh Sannareddy\n"
   ]
  },
  {
   "cell_type": "markdown",
   "metadata": {},
   "source": [
    "### Other Contributors\n"
   ]
  },
  {
   "cell_type": "markdown",
   "metadata": {},
   "source": [
    "Rav Ahuja\n"
   ]
  },
  {
   "cell_type": "markdown",
   "metadata": {},
   "source": [
    "## Change Log\n"
   ]
  },
  {
   "cell_type": "markdown",
   "metadata": {},
   "source": [
    "| Date (YYYY-MM-DD) | Version | Changed By        | Change Description                 |\n",
    "| ----------------- | ------- | ----------------- | ---------------------------------- |\n",
    "| 2020-10-17        | 0.1     | Ramesh Sannareddy | Created initial version of the lab |\n"
   ]
  },
  {
   "cell_type": "markdown",
   "metadata": {},
   "source": [
    "Copyright © 2020 IBM Corporation. This notebook and its source code are released under the terms of the [MIT License](https://cognitiveclass.ai/mit-license?utm_medium=Exinfluencer&utm_source=Exinfluencer&utm_content=000026UJ&utm_term=10006555&utm_id=NA-SkillsNetwork-Channel-SkillsNetworkCoursesIBMDA0321ENSkillsNetwork21426264-2022-01-01&cm_mmc=Email_Newsletter-\\_-Developer_Ed%2BTech-\\_-WW_WW-\\_-SkillsNetwork-Courses-IBM-DA0321EN-SkillsNetwork-21426264&cm_mmca1=000026UJ&cm_mmca2=10006555&cm_mmca3=M12345678&cvosrc=email.Newsletter.M12345678&cvo_campaign=000026UJ).\n"
   ]
  }
 ],
 "metadata": {
  "kernelspec": {
   "display_name": "Python 3 (ipykernel)",
   "language": "python",
   "name": "python3"
  },
  "language_info": {
   "codemirror_mode": {
    "name": "ipython",
    "version": 3
   },
   "file_extension": ".py",
   "mimetype": "text/x-python",
   "name": "python",
   "nbconvert_exporter": "python",
   "pygments_lexer": "ipython3",
   "version": "3.9.7"
  }
 },
 "nbformat": 4,
 "nbformat_minor": 4
}
